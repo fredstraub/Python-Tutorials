{
 "cells": [
  {
   "cell_type": "code",
   "execution_count": 1,
   "id": "c8ae0357",
   "metadata": {},
   "outputs": [
    {
     "name": "stdout",
     "output_type": "stream",
     "text": [
      "Hello World\n"
     ]
    }
   ],
   "source": [
    "print(\"Hello World\")"
   ]
  },
  {
   "cell_type": "code",
   "execution_count": 2,
   "id": "90e89f84",
   "metadata": {},
   "outputs": [
    {
     "name": "stdout",
     "output_type": "stream",
     "text": [
      "Hello World\n"
     ]
    }
   ],
   "source": [
    "print('Hello World')"
   ]
  },
  {
   "cell_type": "code",
   "execution_count": 3,
   "id": "7863e1ca",
   "metadata": {},
   "outputs": [
    {
     "name": "stdout",
     "output_type": "stream",
     "text": [
      "1\n",
      "2\n",
      "3\n",
      "4\n",
      "5\n",
      "6\n",
      "7\n",
      "8\n",
      "9\n",
      "10\n"
     ]
    }
   ],
   "source": [
    "i = 1\n",
    "while i <= 10:\n",
    "    print(i)\n",
    "    i = i + 1"
   ]
  },
  {
   "cell_type": "markdown",
   "id": "3368bc1f",
   "metadata": {},
   "source": [
    "# This is a headline\n",
    "## Subheadline\n",
    "\n",
    "**Text**\n",
    "\n",
    "More Text"
   ]
  },
  {
   "cell_type": "markdown",
   "id": "4fb608fc",
   "metadata": {},
   "source": [
    "* *italics* *"
   ]
  },
  {
   "cell_type": "code",
   "execution_count": 5,
   "id": "046072db",
   "metadata": {},
   "outputs": [
    {
     "data": {
      "text/plain": [
       "2"
      ]
     },
     "execution_count": 5,
     "metadata": {},
     "output_type": "execute_result"
    }
   ],
   "source": [
    "1+1\n"
   ]
  },
  {
   "cell_type": "code",
   "execution_count": 6,
   "id": "bfa6bc4e",
   "metadata": {},
   "outputs": [
    {
     "data": {
      "text/plain": [
       "75"
      ]
     },
     "execution_count": 6,
     "metadata": {},
     "output_type": "execute_result"
    }
   ],
   "source": [
    "int((((100-5) ** 1.2) +1 ) /3.14)"
   ]
  },
  {
   "cell_type": "markdown",
   "id": "d0db7f0a",
   "metadata": {},
   "source": [
    "# Quiz 1"
   ]
  },
  {
   "cell_type": "code",
   "execution_count": 7,
   "id": "ac115ccf",
   "metadata": {},
   "outputs": [
    {
     "data": {
      "text/plain": [
       "291.76"
      ]
     },
     "execution_count": 7,
     "metadata": {},
     "output_type": "execute_result"
    }
   ],
   "source": [
    "7*10.42*4"
   ]
  },
  {
   "cell_type": "markdown",
   "id": "6fc7336d",
   "metadata": {},
   "source": [
    "## Quiz 2"
   ]
  },
  {
   "cell_type": "code",
   "execution_count": 8,
   "id": "d73ea395",
   "metadata": {},
   "outputs": [
    {
     "data": {
      "text/plain": [
       "0.14000000000000057"
      ]
     },
     "execution_count": 8,
     "metadata": {},
     "output_type": "execute_result"
    }
   ],
   "source": [
    "(20*.44 + 1*.34) - 9.00"
   ]
  },
  {
   "cell_type": "code",
   "execution_count": 9,
   "id": "0ebd5b1a",
   "metadata": {},
   "outputs": [
    {
     "name": "stdout",
     "output_type": "stream",
     "text": [
      "1\n"
     ]
    },
    {
     "data": {
      "text/plain": [
       "7"
      ]
     },
     "execution_count": 9,
     "metadata": {},
     "output_type": "execute_result"
    }
   ],
   "source": [
    "print(1)\n",
    "2\n",
    "3\n",
    "4\n",
    "5\n",
    "6\n",
    "7"
   ]
  },
  {
   "cell_type": "code",
   "execution_count": 10,
   "id": "d26fff0d",
   "metadata": {},
   "outputs": [
    {
     "name": "stdout",
     "output_type": "stream",
     "text": [
      "1\n",
      "5\n"
     ]
    }
   ],
   "source": [
    "print(1)\n",
    "2\n",
    "3\n",
    "4\n",
    "print(5)"
   ]
  },
  {
   "cell_type": "code",
   "execution_count": 11,
   "id": "166a9ca9",
   "metadata": {},
   "outputs": [
    {
     "name": "stdout",
     "output_type": "stream",
     "text": [
      "1\n",
      "2\n"
     ]
    }
   ],
   "source": [
    "print(1)\n",
    "print(2)"
   ]
  },
  {
   "cell_type": "code",
   "execution_count": 12,
   "id": "295ae1bd",
   "metadata": {},
   "outputs": [],
   "source": [
    "pokebowl_price = 8.25"
   ]
  },
  {
   "cell_type": "code",
   "execution_count": 13,
   "id": "b2864455",
   "metadata": {},
   "outputs": [
    {
     "name": "stdout",
     "output_type": "stream",
     "text": [
      "8.25\n"
     ]
    }
   ],
   "source": [
    "print(pokebowl_price)"
   ]
  },
  {
   "cell_type": "code",
   "execution_count": 14,
   "id": "b3a473dd",
   "metadata": {},
   "outputs": [
    {
     "data": {
      "text/plain": [
       "10.95"
      ]
     },
     "execution_count": 14,
     "metadata": {},
     "output_type": "execute_result"
    }
   ],
   "source": [
    "poke_price = 20\n",
    "poke_weight = 0.5\n",
    "tax = 9.5\n",
    "\n",
    "poke_price * poke_weight * (1+(tax/100))"
   ]
  },
  {
   "cell_type": "code",
   "execution_count": 1,
   "id": "725e16f6",
   "metadata": {},
   "outputs": [
    {
     "name": "stdout",
     "output_type": "stream",
     "text": [
      "free diving\n",
      "Free Diving\n",
      "FREE DIVING\n",
      "free diving\n"
     ]
    }
   ],
   "source": [
    "aus_activity = 'free diving'\n",
    "print(aus_activity)\n",
    "print(aus_activity.title())\n",
    "print(aus_activity.upper())\n",
    "print(aus_activity.lower())"
   ]
  },
  {
   "cell_type": "code",
   "execution_count": 2,
   "id": "f6d48f77",
   "metadata": {},
   "outputs": [
    {
     "name": "stdout",
     "output_type": "stream",
     "text": [
      "Martin Islet free diving\n"
     ]
    }
   ],
   "source": [
    "print('Martin Islet'+' '+aus_activity)"
   ]
  },
  {
   "cell_type": "code",
   "execution_count": 6,
   "id": "00eea4dc",
   "metadata": {},
   "outputs": [
    {
     "name": "stdout",
     "output_type": "stream",
     "text": [
      "Austrailia, free diving\n"
     ]
    }
   ],
   "source": [
    "country = 'Austrailia'\n",
    "complete_activity_location = \"{}, {}\".format(country, aus_activity)\n",
    "print(complete_activity_location)"
   ]
  },
  {
   "cell_type": "code",
   "execution_count": 7,
   "id": "00a0c2f5",
   "metadata": {},
   "outputs": [
    {
     "name": "stdout",
     "output_type": "stream",
     "text": [
      "I WENT SWIMMING\n"
     ]
    }
   ],
   "source": [
    "print('I went swimming'.upper())"
   ]
  },
  {
   "cell_type": "code",
   "execution_count": 1,
   "id": "77a43ed7",
   "metadata": {},
   "outputs": [],
   "source": [
    "import math"
   ]
  },
  {
   "cell_type": "code",
   "execution_count": 2,
   "id": "d3509ae6",
   "metadata": {},
   "outputs": [
    {
     "data": {
      "text/plain": [
       "78.53981633974483"
      ]
     },
     "execution_count": 2,
     "metadata": {},
     "output_type": "execute_result"
    }
   ],
   "source": [
    "area = math.pi *5**2\n",
    "area"
   ]
  },
  {
   "cell_type": "code",
   "execution_count": 3,
   "id": "17f1eea4",
   "metadata": {},
   "outputs": [
    {
     "name": "stdout",
     "output_type": "stream",
     "text": [
      "3.141592653589793\n"
     ]
    }
   ],
   "source": [
    "print(math.pi)"
   ]
  },
  {
   "cell_type": "code",
   "execution_count": 4,
   "id": "5e15c31a",
   "metadata": {},
   "outputs": [
    {
     "name": "stdout",
     "output_type": "stream",
     "text": [
      "15.707963267948966\n"
     ]
    }
   ],
   "source": [
    "print(math.pi *5)"
   ]
  },
  {
   "cell_type": "code",
   "execution_count": 5,
   "id": "e5a2905c",
   "metadata": {},
   "outputs": [
    {
     "data": {
      "text/plain": [
       "246.740101609369"
      ]
     },
     "execution_count": 5,
     "metadata": {},
     "output_type": "execute_result"
    }
   ],
   "source": [
    "15.707963 **2"
   ]
  },
  {
   "cell_type": "code",
   "execution_count": 6,
   "id": "a169270a",
   "metadata": {},
   "outputs": [
    {
     "data": {
      "text/plain": [
       "25"
      ]
     },
     "execution_count": 6,
     "metadata": {},
     "output_type": "execute_result"
    }
   ],
   "source": [
    "5**2"
   ]
  },
  {
   "cell_type": "code",
   "execution_count": 1,
   "id": "42149b7a",
   "metadata": {},
   "outputs": [],
   "source": [
    "# Chapter 4#\n",
    "\n",
    "import math\n",
    "import scipy"
   ]
  },
  {
   "cell_type": "code",
   "execution_count": 2,
   "id": "e4a21f60",
   "metadata": {},
   "outputs": [],
   "source": [
    "import scipy.constants"
   ]
  },
  {
   "cell_type": "code",
   "execution_count": 5,
   "id": "a3f15d4d",
   "metadata": {},
   "outputs": [],
   "source": [
    "from scipy.constants import c"
   ]
  },
  {
   "cell_type": "code",
   "execution_count": 6,
   "id": "0126866d",
   "metadata": {},
   "outputs": [
    {
     "name": "stdout",
     "output_type": "stream",
     "text": [
      "299792458.0\n"
     ]
    }
   ],
   "source": [
    "print(c)"
   ]
  },
  {
   "cell_type": "code",
   "execution_count": 10,
   "id": "35aab787",
   "metadata": {},
   "outputs": [
    {
     "name": "stdout",
     "output_type": "stream",
     "text": [
      "499.01188641643546\n"
     ]
    }
   ],
   "source": [
    "print(149600000000/c)"
   ]
  },
  {
   "cell_type": "code",
   "execution_count": 11,
   "id": "e2f02570",
   "metadata": {},
   "outputs": [
    {
     "data": {
      "text/plain": [
       "78.53981633974483"
      ]
     },
     "execution_count": 11,
     "metadata": {},
     "output_type": "execute_result"
    }
   ],
   "source": [
    "import math as m\n",
    "\n",
    "area =m.pi *5**2\n",
    "area"
   ]
  },
  {
   "cell_type": "code",
   "execution_count": 12,
   "id": "cd01af5e",
   "metadata": {},
   "outputs": [
    {
     "name": "stdout",
     "output_type": "stream",
     "text": [
      "The area is 78.53981633974483\n",
      "The cirumference is 31.41592653589793\n"
     ]
    }
   ],
   "source": [
    "from math import pi, tau\n",
    "\n",
    "area = pi * 5 ** 2\n",
    "circumference = tau * 5 \n",
    "\n",
    "print(\"The area is {}\".format(area))\n",
    "print(\"The cirumference is {}\".format(circumference))"
   ]
  },
  {
   "cell_type": "code",
   "execution_count": 13,
   "id": "c133fb93",
   "metadata": {},
   "outputs": [
    {
     "data": {
      "text/plain": [
       "15.968719422671311"
      ]
     },
     "execution_count": 13,
     "metadata": {},
     "output_type": "execute_result"
    }
   ],
   "source": [
    "m.sqrt(255)"
   ]
  },
  {
   "cell_type": "code",
   "execution_count": 14,
   "id": "52c48d24",
   "metadata": {},
   "outputs": [
    {
     "data": {
      "text/plain": [
       "15.968719422671311"
      ]
     },
     "execution_count": 14,
     "metadata": {},
     "output_type": "execute_result"
    }
   ],
   "source": [
    "math.sqrt(255)"
   ]
  },
  {
   "cell_type": "code",
   "execution_count": 15,
   "id": "c39587f1",
   "metadata": {},
   "outputs": [
    {
     "data": {
      "text/plain": [
       "0.9999999999999999"
      ]
     },
     "execution_count": 15,
     "metadata": {},
     "output_type": "execute_result"
    }
   ],
   "source": [
    "m.tan(pi/4)"
   ]
  },
  {
   "cell_type": "code",
   "execution_count": 16,
   "id": "ef6031d6",
   "metadata": {},
   "outputs": [
    {
     "data": {
      "text/plain": [
       "213.324"
      ]
     },
     "execution_count": 16,
     "metadata": {},
     "output_type": "execute_result"
    }
   ],
   "source": [
    "round(213.324235325, 3)"
   ]
  },
  {
   "cell_type": "code",
   "execution_count": 17,
   "id": "b983a2ba",
   "metadata": {},
   "outputs": [
    {
     "name": "stdout",
     "output_type": "stream",
     "text": [
      "Help on built-in function round in module builtins:\n",
      "\n",
      "round(number, ndigits=None)\n",
      "    Round a number to a given precision in decimal digits.\n",
      "    \n",
      "    The return value is an integer if ndigits is omitted or None.  Otherwise\n",
      "    the return value has the same type as the number.  ndigits may be negative.\n",
      "\n"
     ]
    }
   ],
   "source": [
    "help(round)"
   ]
  },
  {
   "cell_type": "code",
   "execution_count": 22,
   "id": "6d997e18",
   "metadata": {},
   "outputs": [],
   "source": [
    "import random\n"
   ]
  },
  {
   "cell_type": "code",
   "execution_count": 25,
   "id": "7ad8da35",
   "metadata": {},
   "outputs": [
    {
     "name": "stdout",
     "output_type": "stream",
     "text": [
      "6\n"
     ]
    }
   ],
   "source": [
    "import random\n",
    "\n",
    "print(random.randrange(3, 9))"
   ]
  },
  {
   "cell_type": "code",
   "execution_count": 27,
   "id": "e162d346",
   "metadata": {},
   "outputs": [
    {
     "data": {
      "text/plain": [
       "121.11111111111111"
      ]
     },
     "execution_count": 27,
     "metadata": {},
     "output_type": "execute_result"
    }
   ],
   "source": [
    "#chapter 5#\n",
    "\n",
    "def fahr_to_celsius(fahr):\n",
    "    celsius = (fahr -32) * (5/9)\n",
    "    return celsius\n",
    "\n",
    "fahr_to_celsius(250)"
   ]
  },
  {
   "cell_type": "code",
   "execution_count": 30,
   "id": "2d00a676",
   "metadata": {},
   "outputs": [
    {
     "name": "stdout",
     "output_type": "stream",
     "text": [
      "Hello Lavagirl808\n"
     ]
    }
   ],
   "source": [
    "def greet_user(username):\n",
    "    print(\"Hello {}\".format(username.title()))\n",
    "    \n",
    "greet_user(\"lavagirl808\")"
   ]
  },
  {
   "cell_type": "code",
   "execution_count": 31,
   "id": "899402df",
   "metadata": {},
   "outputs": [],
   "source": [
    "import math\n",
    "\n",
    "#Earth_radius_km = 6371\n",
    "#Earth_radius_miles = 3959\n",
    "#Earth_radius_feet = 3959*5280\n",
    "\n",
    "def distance(lat1, lon1, lat2, lon2, earth_radius=6371):\n",
    "\n",
    "  dlat = math.radians(lat2 - lat1)\n",
    "  dlon = math.radians(lon2 - lon1)\n",
    "  \n",
    "  a = (math.sin(dlat / 2) * math.sin(dlat / 2) + math.cos(math.radians(lat1))\n",
    "       * math.cos(math.radians(lat2)) * math.sin(dlon / 2) * math.sin(dlon / 2))\n",
    "  c = 2 * math.atan2(math.sqrt(a), math.sqrt(1 - a))\n",
    "  d = earth_radius * c\n",
    "  \n",
    "  return d"
   ]
  },
  {
   "cell_type": "code",
   "execution_count": 32,
   "id": "218ac958",
   "metadata": {},
   "outputs": [
    {
     "data": {
      "text/plain": [
       "6567.145591489822"
      ]
     },
     "execution_count": 32,
     "metadata": {},
     "output_type": "execute_result"
    }
   ],
   "source": [
    "distance(21.3069, -157.858093, 34.987476, 135.759491)\n",
    "# kilometers between Kyoto and Honolulu"
   ]
  },
  {
   "cell_type": "code",
   "execution_count": 33,
   "id": "1e27cdaa",
   "metadata": {},
   "outputs": [],
   "source": [
    "# Chapter 6 #"
   ]
  },
  {
   "cell_type": "code",
   "execution_count": 34,
   "id": "7557b631",
   "metadata": {},
   "outputs": [
    {
     "data": {
      "text/plain": [
       "['♤', '♡', '♢', '♧']"
      ]
     },
     "execution_count": 34,
     "metadata": {},
     "output_type": "execute_result"
    }
   ],
   "source": [
    "suits = [\"♤\", \"♡\", \"♢\", \"♧\"]\n",
    "suits"
   ]
  },
  {
   "cell_type": "code",
   "execution_count": 36,
   "id": "4241d979",
   "metadata": {},
   "outputs": [
    {
     "data": {
      "text/plain": [
       "'♤'"
      ]
     },
     "execution_count": 36,
     "metadata": {},
     "output_type": "execute_result"
    }
   ],
   "source": [
    "suits[0]"
   ]
  },
  {
   "cell_type": "code",
   "execution_count": 37,
   "id": "d9e48aec",
   "metadata": {},
   "outputs": [
    {
     "data": {
      "text/plain": [
       "'♤'"
      ]
     },
     "execution_count": 37,
     "metadata": {},
     "output_type": "execute_result"
    }
   ],
   "source": [
    "suits[-4]"
   ]
  },
  {
   "cell_type": "code",
   "execution_count": 38,
   "id": "7dc481c6",
   "metadata": {},
   "outputs": [
    {
     "name": "stdout",
     "output_type": "stream",
     "text": [
      "♤\n"
     ]
    }
   ],
   "source": [
    "spade = suits[-4]\n",
    "print(spade)"
   ]
  },
  {
   "cell_type": "code",
   "execution_count": 39,
   "id": "cbcf358b",
   "metadata": {},
   "outputs": [
    {
     "data": {
      "text/plain": [
       "['♤', '♡']"
      ]
     },
     "execution_count": 39,
     "metadata": {},
     "output_type": "execute_result"
    }
   ],
   "source": [
    "suits[0:2]"
   ]
  },
  {
   "cell_type": "code",
   "execution_count": 40,
   "id": "e706c9a7",
   "metadata": {},
   "outputs": [
    {
     "data": {
      "text/plain": [
       "['♤', '♡', '♢']"
      ]
     },
     "execution_count": 40,
     "metadata": {},
     "output_type": "execute_result"
    }
   ],
   "source": [
    "suits[0:3]"
   ]
  },
  {
   "cell_type": "code",
   "execution_count": 41,
   "id": "7c085423",
   "metadata": {},
   "outputs": [
    {
     "data": {
      "text/plain": [
       "['♤', '♡']"
      ]
     },
     "execution_count": 41,
     "metadata": {},
     "output_type": "execute_result"
    }
   ],
   "source": [
    "suits[:2]"
   ]
  },
  {
   "cell_type": "code",
   "execution_count": 43,
   "id": "61aea663",
   "metadata": {},
   "outputs": [
    {
     "data": {
      "text/plain": [
       "['♢', '♧']"
      ]
     },
     "execution_count": 43,
     "metadata": {},
     "output_type": "execute_result"
    }
   ],
   "source": [
    "suits[2:]"
   ]
  },
  {
   "cell_type": "code",
   "execution_count": 44,
   "id": "a712dae7",
   "metadata": {},
   "outputs": [
    {
     "name": "stdout",
     "output_type": "stream",
     "text": [
      "Printing the first three elements:\n",
      "['♤', '♡', '♢']\n",
      "['♤', '♡', '♢']\n",
      "Printing the last two elements:\n",
      "['♢', '♧']\n",
      "['♢', '♧']\n",
      "Referring to the entire suits list:\n",
      "['♤', '♡', '♢', '♧']\n",
      "['♤', '♡', '♢', '♧']\n",
      "['♤', '♡', '♢', '♧']\n",
      "['♤', '♡', '♢', '♧']\n"
     ]
    }
   ],
   "source": [
    "print('Printing the first three elements:')\n",
    "print(suits[0:3])\n",
    "print(suits[:3])\n",
    "\n",
    "print('Printing the last two elements:')\n",
    "print(suits[2:4])\n",
    "print(suits[2:])\n",
    "\n",
    "print('Referring to the entire suits list:')\n",
    "print(suits[0:4])\n",
    "print(suits[:4])\n",
    "print(suits[0:])\n",
    "print(suits[:])"
   ]
  },
  {
   "cell_type": "code",
   "execution_count": 45,
   "id": "d07cc8dd",
   "metadata": {},
   "outputs": [
    {
     "data": {
      "text/plain": [
       "['😂', '❤', '😭', '😍', '😘', '😊', '🙄']"
      ]
     },
     "execution_count": 45,
     "metadata": {},
     "output_type": "execute_result"
    }
   ],
   "source": [
    "emojis_2017 = ['😂', '❤', '😭', '😍', '😘', '😊']\n",
    "emojis_2017.append('🙄') \n",
    "emojis_2017"
   ]
  },
  {
   "cell_type": "code",
   "execution_count": 46,
   "id": "601d0fe2",
   "metadata": {},
   "outputs": [
    {
     "data": {
      "text/plain": [
       "['😂', '🤔', '❤', '😭', '😍', '😘', '😊', '🙄']"
      ]
     },
     "execution_count": 46,
     "metadata": {},
     "output_type": "execute_result"
    }
   ],
   "source": [
    "emojis_2017.insert(1, '🤔')\n",
    "emojis_2017"
   ]
  },
  {
   "cell_type": "code",
   "execution_count": 47,
   "id": "0a4f30fb",
   "metadata": {},
   "outputs": [
    {
     "name": "stdout",
     "output_type": "stream",
     "text": [
      "['😂', '🤔', '❤', '😭', '😍', '😘', '🙄']\n"
     ]
    },
    {
     "data": {
      "text/plain": [
       "'😊'"
      ]
     },
     "execution_count": 47,
     "metadata": {},
     "output_type": "execute_result"
    }
   ],
   "source": [
    "smiley = emojis_2017.pop(-2)\n",
    "print(emojis_2017)\n",
    "smiley"
   ]
  },
  {
   "cell_type": "code",
   "execution_count": 48,
   "id": "3cba79fb",
   "metadata": {},
   "outputs": [
    {
     "name": "stdout",
     "output_type": "stream",
     "text": [
      "<class 'tuple'>\n"
     ]
    }
   ],
   "source": [
    "uh_food_trucks = (\"Sistah Truck\", \"Punchbowl Cafe\", \"Peace Cafe\", \"Hot Tacos\")\n",
    "print(type(uh_food_trucks))"
   ]
  },
  {
   "cell_type": "code",
   "execution_count": 49,
   "id": "30beaf83",
   "metadata": {},
   "outputs": [
    {
     "name": "stdout",
     "output_type": "stream",
     "text": [
      "<class 'list'>\n",
      "['Sistah Truck', 'Punchbowl Cafe', 'Peace Cafe', 'Hot Tacos', 'Kamitoku Ramen']\n"
     ]
    }
   ],
   "source": [
    "uh_food_trucks = list(uh_food_trucks)\n",
    "uh_food_trucks.append(\"Kamitoku Ramen\")\n",
    "print(type(uh_food_trucks))\n",
    "print(uh_food_trucks)"
   ]
  },
  {
   "cell_type": "code",
   "execution_count": 50,
   "id": "37ce4925",
   "metadata": {},
   "outputs": [
    {
     "name": "stdout",
     "output_type": "stream",
     "text": [
      "<class 'tuple'>\n"
     ]
    }
   ],
   "source": [
    "uh_food_trucks = tuple(uh_food_trucks)\n",
    "print(type(uh_food_trucks))"
   ]
  },
  {
   "cell_type": "code",
   "execution_count": 52,
   "id": "eee88de3",
   "metadata": {},
   "outputs": [
    {
     "name": "stdout",
     "output_type": "stream",
     "text": [
      "The Lion King is sold out today!\n",
      "Rent is sold out today!\n",
      "Wicked is sold out today!\n",
      "Hamilton is sold out today!\n",
      "Chicago is sold out today!\n",
      "Aladdin is sold out today!\n",
      "Frozen is sold out today!\n"
     ]
    }
   ],
   "source": [
    "broadway_shows = ['The Lion King', 'Rent', 'Wicked', 'Hamilton', \n",
    "                  'Chicago', 'Aladdin', 'Frozen']\n",
    "\n",
    "for show in broadway_shows:\n",
    "    print(\"{} is sold out today!\".format(show))"
   ]
  },
  {
   "cell_type": "code",
   "execution_count": 56,
   "id": "a5f18183",
   "metadata": {},
   "outputs": [
    {
     "name": "stdout",
     "output_type": "stream",
     "text": [
      "This is draw 1:\n",
      "♢\n",
      "This is draw 2:\n",
      "♧\n",
      "This is draw 3:\n",
      "♧\n"
     ]
    }
   ],
   "source": [
    "import random\n",
    "suits = [\"♤\", \"♡\", \"♢\", \"♧\"]\n",
    "for draw in range(1, 4):\n",
    "  print(\"This is draw {}:\".format(draw))\n",
    "  print(random.choice(suits))"
   ]
  },
  {
   "cell_type": "code",
   "execution_count": 57,
   "id": "836c4902",
   "metadata": {},
   "outputs": [],
   "source": [
    "# Chapter 7 #\n",
    "# Dictionaries  - unordered items in key:value format #"
   ]
  },
  {
   "cell_type": "code",
   "execution_count": 58,
   "id": "732d4a61",
   "metadata": {},
   "outputs": [
    {
     "name": "stdout",
     "output_type": "stream",
     "text": [
      "{'username': 'elsa', 'followers': 342266, 'online': True, 'account age': '4 years'}\n"
     ]
    }
   ],
   "source": [
    "elsa_instagram = {'username' : 'elsa',\n",
    "                  'followers' : 342266,\n",
    "                  'online' : True, \n",
    "                  'account age' : '4 years'}\n",
    "\n",
    "print(elsa_instagram)"
   ]
  },
  {
   "cell_type": "code",
   "execution_count": 61,
   "id": "b56dd4c4",
   "metadata": {},
   "outputs": [
    {
     "name": "stdout",
     "output_type": "stream",
     "text": [
      "True\n"
     ]
    }
   ],
   "source": [
    "print(elsa_instagram[\"online\"])"
   ]
  },
  {
   "cell_type": "code",
   "execution_count": 62,
   "id": "1e708a48",
   "metadata": {},
   "outputs": [
    {
     "data": {
      "text/plain": [
       "False"
      ]
     },
     "execution_count": 62,
     "metadata": {},
     "output_type": "execute_result"
    }
   ],
   "source": [
    "# Change The state\n",
    "\n",
    "elsa_instagram[\"online\"] = False\n",
    "\n",
    "# print to make sure that it did change\n",
    "\n",
    "elsa_instagram[\"online\"]"
   ]
  },
  {
   "cell_type": "code",
   "execution_count": 63,
   "id": "836664ce",
   "metadata": {},
   "outputs": [
    {
     "data": {
      "text/plain": [
       "'elsa100@gmail.com'"
      ]
     },
     "execution_count": 63,
     "metadata": {},
     "output_type": "execute_result"
    }
   ],
   "source": [
    "# Add email\n",
    "elsa_instagram[\"email\"] = \"elsa100@gmail.com\"\n",
    "\n",
    "# Print info to show that it was appropriately added.\n",
    "elsa_instagram[\"email\"]\n"
   ]
  },
  {
   "cell_type": "code",
   "execution_count": 64,
   "id": "171ef9b8",
   "metadata": {},
   "outputs": [
    {
     "name": "stdout",
     "output_type": "stream",
     "text": [
      "{'username': 'elsa', 'followers': 342266, 'online': False, 'account age': '4 years', 'email': 'elsa100@gmail.com'}\n"
     ]
    }
   ],
   "source": [
    "print(elsa_instagram)"
   ]
  },
  {
   "cell_type": "code",
   "execution_count": 65,
   "id": "bce565a5",
   "metadata": {},
   "outputs": [],
   "source": [
    "del elsa_instagram[\"email\"]"
   ]
  },
  {
   "cell_type": "code",
   "execution_count": 66,
   "id": "2779b2fc",
   "metadata": {},
   "outputs": [
    {
     "name": "stdout",
     "output_type": "stream",
     "text": [
      "{'username': 'elsa', 'followers': 342266, 'online': False, 'account age': '4 years'}\n"
     ]
    }
   ],
   "source": [
    "print(elsa_instagram)"
   ]
  },
  {
   "cell_type": "code",
   "execution_count": 68,
   "id": "792f5e49",
   "metadata": {},
   "outputs": [],
   "source": [
    "ghg_2014 = {'chinaa' : 2806634, 'united states of america' : 1432855, \n",
    "            'india' : 610411, 'russian federation' : 465052, \n",
    "            'japan' : 331074, 'germany' : 196314}"
   ]
  },
  {
   "cell_type": "code",
   "execution_count": 69,
   "id": "fc095a5a",
   "metadata": {},
   "outputs": [
    {
     "name": "stdout",
     "output_type": "stream",
     "text": [
      "{'chinaa': 2806634, 'united states of america': 1432855, 'india': 610411, 'russian federation': 465052, 'japan': 331074, 'germany': 196314}\n"
     ]
    }
   ],
   "source": [
    "print(ghg_2014)"
   ]
  },
  {
   "cell_type": "code",
   "execution_count": 70,
   "id": "b1ceca55",
   "metadata": {},
   "outputs": [
    {
     "name": "stdout",
     "output_type": "stream",
     "text": [
      "{'united states of america': 1432855, 'india': 610411, 'russian federation': 465052, 'japan': 331074, 'germany': 196314, 'china': 2806634}\n"
     ]
    }
   ],
   "source": [
    "del ghg_2014[\"chinaa\"]\n",
    "ghg_2014[\"china\"] = 2806634\n",
    "print(ghg_2014)"
   ]
  },
  {
   "cell_type": "code",
   "execution_count": 75,
   "id": "839600a9",
   "metadata": {},
   "outputs": [
    {
     "name": "stdout",
     "output_type": "stream",
     "text": [
      "dict_keys(['united states of america', 'india', 'russian federation', 'japan', 'germany', 'china'])\n",
      "\n",
      "dict_values([1432855, 610411, 465052, 331074, 196314, 2806634])\n",
      " \n",
      "dict_items([('united states of america', 1432855), ('india', 610411), ('russian federation', 465052), ('japan', 331074), ('germany', 196314), ('china', 2806634)])\n"
     ]
    }
   ],
   "source": [
    "print(ghg_2014.keys())\n",
    "print(\"\")\n",
    "print(ghg_2014.values())\n",
    "print(\" \")\n",
    "print(ghg_2014.items())"
   ]
  },
  {
   "cell_type": "code",
   "execution_count": 76,
   "id": "023c0953",
   "metadata": {},
   "outputs": [
    {
     "name": "stdout",
     "output_type": "stream",
     "text": [
      "united states of america\n",
      "india\n",
      "russian federation\n",
      "japan\n",
      "germany\n",
      "china\n"
     ]
    }
   ],
   "source": [
    "for keys in ghg_2014.keys():\n",
    "    print(keys)"
   ]
  },
  {
   "cell_type": "code",
   "execution_count": 79,
   "id": "dd41b0da",
   "metadata": {},
   "outputs": [
    {
     "name": "stdout",
     "output_type": "stream",
     "text": [
      "1432855\n",
      "610411\n",
      "465052\n",
      "331074\n",
      "196314\n",
      "2806634\n"
     ]
    }
   ],
   "source": [
    "for value in ghg_2014.values():\n",
    "    print(value)"
   ]
  },
  {
   "cell_type": "code",
   "execution_count": 85,
   "id": "477db4ac",
   "metadata": {},
   "outputs": [
    {
     "name": "stdout",
     "output_type": "stream",
     "text": [
      "\n",
      " Key: united states of america\n",
      "Value: 1432855\n",
      "\n",
      " Key: india\n",
      "Value: 610411\n",
      "\n",
      " Key: russian federation\n",
      "Value: 465052\n",
      "\n",
      " Key: japan\n",
      "Value: 331074\n",
      "\n",
      " Key: germany\n",
      "Value: 196314\n",
      "\n",
      " Key: china\n",
      "Value: 2806634\n"
     ]
    }
   ],
   "source": [
    "for key, value in ghg_2014.items():\n",
    "    print(\"\\n Key: {}\".format(key))\n",
    "    print(\"Value: {}\".format(value))"
   ]
  },
  {
   "cell_type": "code",
   "execution_count": 86,
   "id": "2c67a95a",
   "metadata": {},
   "outputs": [
    {
     "name": "stdout",
     "output_type": "stream",
     "text": [
      "china\n",
      "germany\n",
      "india\n",
      "japan\n",
      "russian federation\n",
      "united states of america\n"
     ]
    }
   ],
   "source": [
    "for element in  sorted(ghg_2014.keys()):\n",
    "    print(element)"
   ]
  },
  {
   "cell_type": "code",
   "execution_count": 88,
   "id": "7c9dff21",
   "metadata": {},
   "outputs": [
    {
     "name": "stdout",
     "output_type": "stream",
     "text": [
      "196314\n",
      "331074\n",
      "465052\n",
      "610411\n",
      "1432855\n",
      "2806634\n"
     ]
    }
   ],
   "source": [
    "for element in sorted(ghg_2014.values()):\n",
    "    print(element)"
   ]
  },
  {
   "cell_type": "code",
   "execution_count": 89,
   "id": "27555bd5",
   "metadata": {},
   "outputs": [],
   "source": [
    "cipher = {'a' : 'd',\n",
    "          'b' : 'e',\n",
    "          'c' : 'f',\n",
    "          'd' : 'g',\n",
    "          'e' : 'h',\n",
    "          'f' : 'i',\n",
    "          'g' : 'j',\n",
    "          'h' : 'k',\n",
    "          'i' : 'l',\n",
    "          'j' : 'm',\n",
    "          'k' : 'n',\n",
    "          'l' : 'o',\n",
    "          'm' : 'p',\n",
    "          'n' : 'q',\n",
    "          'o' : 'r',\n",
    "          'p' : 's',\n",
    "          'q' : 't',\n",
    "          'r' : 'u',\n",
    "          's' : 'v',\n",
    "          't' : 'w',\n",
    "          'u' : 'x',\n",
    "          'v' : 'y',\n",
    "          'w' : 'z',\n",
    "          'x' : 'a',\n",
    "          'y' : 'b',\n",
    "          'z' : 'c',\n",
    "          \" \" : 'xx'}"
   ]
  },
  {
   "cell_type": "code",
   "execution_count": 106,
   "id": "d94eb7bf",
   "metadata": {},
   "outputs": [],
   "source": [
    "def encrypt_decrypt(message, cipher):\n",
    "  result = \"\"\n",
    "  for c in message:\n",
    "    result = result + cipher[c]\n",
    "  return result"
   ]
  },
  {
   "cell_type": "code",
   "execution_count": 107,
   "id": "dec48671",
   "metadata": {},
   "outputs": [
    {
     "name": "stdout",
     "output_type": "stream",
     "text": [
      "khoor\n",
      "wklvxxlvxxdxxvhfuhwxxphvvdjh\n",
      "grxxbrxxxwklqnxxbrxxxfdqxxghfrghxxlw\n"
     ]
    }
   ],
   "source": [
    "print(encrypt_decrypt(\"hello\", cipher))\n",
    "print(encrypt_decrypt(\"this is a secret message\", cipher))\n",
    "print(encrypt_decrypt(\"do you think you can decode it\", cipher))"
   ]
  },
  {
   "cell_type": "code",
   "execution_count": 108,
   "id": "e66277e4",
   "metadata": {},
   "outputs": [],
   "source": [
    "def invert(my_cipher):\n",
    "    result = {} \n",
    "    for key, value in my_cipher.items():\n",
    "      result[value] = key\n",
    "    return result\n",
    "    \n",
    "def encrypt_decrypt(message, cipher):\n",
    "  return encrypt(message, invert(cipher))"
   ]
  },
  {
   "cell_type": "code",
   "execution_count": 111,
   "id": "5113dc59",
   "metadata": {},
   "outputs": [
    {
     "data": {
      "text/plain": [
       "[('USS Arizona', \"N21°18'\", \"W157°57'\"),\n",
       " ('Iolani Palace', \"N21°18'\", \"W157°51'\"),\n",
       " ('Diamond Head', \"N21°15'\", \"W157°48'\")]"
      ]
     },
     "execution_count": 111,
     "metadata": {},
     "output_type": "execute_result"
    }
   ],
   "source": [
    "# list of of tuples \n",
    "monuments = [('USS Arizona', \"N21°18'\", \"W157°57'\"),\n",
    "             (\"Iolani Palace\", \"N21°18'\", \"W157°51'\"),\n",
    "             (\"Diamond Head\", \"N21°15'\", \"W157°48'\")]\n",
    "monuments"
   ]
  },
  {
   "cell_type": "code",
   "execution_count": 112,
   "id": "bdc74ca6",
   "metadata": {},
   "outputs": [
    {
     "name": "stdout",
     "output_type": "stream",
     "text": [
      "{'CSU': ['cal poly', 'csuf', 'csun', 'long beach state'], 'UH': ['uhm'], 'UC': ['uc davis', 'uc irvine', 'uc riverside', 'uc santa barbara']}\n"
     ]
    }
   ],
   "source": [
    "csu = ['cal poly', 'csuf', 'csun', 'long beach state']\n",
    "uh = ['uhm']\n",
    "uc = ['uc davis', 'uc irvine', 'uc riverside', 'uc santa barbara']\n",
    "\n",
    "big_west = {'CSU' : csu, 'UH' : uh, 'UC' : uc}\n",
    "\n",
    "print(big_west)"
   ]
  },
  {
   "cell_type": "code",
   "execution_count": 114,
   "id": "d9f39fbe",
   "metadata": {},
   "outputs": [
    {
     "name": "stdout",
     "output_type": "stream",
     "text": [
      "This is the third element in the monuments list: ('Diamond Head', \"N21°15'\", \"W157°48'\")\n"
     ]
    }
   ],
   "source": [
    "print(\"This is the third element in the monuments list: {}\".format(monuments[2]))"
   ]
  },
  {
   "cell_type": "code",
   "execution_count": 115,
   "id": "957de1e1",
   "metadata": {},
   "outputs": [
    {
     "name": "stdout",
     "output_type": "stream",
     "text": [
      "This is the item under \"UC\": ['uc davis', 'uc irvine', 'uc riverside', 'uc santa barbara']\n",
      "This is the last item in the \"UC\" list: uc santa barbara\n"
     ]
    }
   ],
   "source": [
    "print('This is the item under \"UC\": {}'.format(big_west[\"UC\"]))\n",
    "\n",
    "print('This is the last item in the \"UC\" list: {}'.format(big_west[\"UC\"][-1]))"
   ]
  },
  {
   "cell_type": "code",
   "execution_count": 116,
   "id": "9bd3fb21",
   "metadata": {},
   "outputs": [],
   "source": [
    "# Chapter 8 #"
   ]
  },
  {
   "cell_type": "code",
   "execution_count": 117,
   "id": "4db35964",
   "metadata": {},
   "outputs": [
    {
     "name": "stdout",
     "output_type": "stream",
     "text": [
      "united states of america\n",
      "india\n",
      "china\n"
     ]
    }
   ],
   "source": [
    "# if emission is greater than 500000, print the name of the country\n",
    "\n",
    "for country, emission in ghg_2014.items():\n",
    "  if emission > 500000:\n",
    "    print(country)"
   ]
  },
  {
   "cell_type": "code",
   "execution_count": 118,
   "id": "020bbd73",
   "metadata": {},
   "outputs": [
    {
     "data": {
      "text/plain": [
       "['♤A',\n",
       " '♤2',\n",
       " '♤3',\n",
       " '♤4',\n",
       " '♤5',\n",
       " '♤6',\n",
       " '♤7',\n",
       " '♤8',\n",
       " '♤9',\n",
       " '♤10',\n",
       " '♤J',\n",
       " '♤Q',\n",
       " '♤K',\n",
       " '♡A',\n",
       " '♡2',\n",
       " '♡3',\n",
       " '♡4',\n",
       " '♡5',\n",
       " '♡6',\n",
       " '♡7',\n",
       " '♡8',\n",
       " '♡9',\n",
       " '♡10',\n",
       " '♡J',\n",
       " '♡Q',\n",
       " '♡K',\n",
       " '♢A',\n",
       " '♢2',\n",
       " '♢3',\n",
       " '♢4',\n",
       " '♢5',\n",
       " '♢6',\n",
       " '♢7',\n",
       " '♢8',\n",
       " '♢9',\n",
       " '♢10',\n",
       " '♢J',\n",
       " '♢Q',\n",
       " '♢K',\n",
       " '♧A',\n",
       " '♧2',\n",
       " '♧3',\n",
       " '♧4',\n",
       " '♧5',\n",
       " '♧6',\n",
       " '♧7',\n",
       " '♧8',\n",
       " '♧9',\n",
       " '♧10',\n",
       " '♧J',\n",
       " '♧Q',\n",
       " '♧K']"
      ]
     },
     "execution_count": 118,
     "metadata": {},
     "output_type": "execute_result"
    }
   ],
   "source": [
    "suits = [\"♤\", \"♡\", \"♢\", \"♧\"]\n",
    "card_numbers = ['A', '2', '3', '4', '5', '6', '7', '8', '9', '10', 'J', 'Q', 'K']\n",
    "cards = []\n",
    "for suit in suits:\n",
    "  for number in card_numbers:\n",
    "    card = suit + number\n",
    "    cards.append(card)\n",
    "    \n",
    "cards"
   ]
  },
  {
   "cell_type": "code",
   "execution_count": 122,
   "id": "6b2a0c0b",
   "metadata": {},
   "outputs": [
    {
     "name": "stdout",
     "output_type": "stream",
     "text": [
      "♤A\t♤2\t♤3\t♤4\t♤5\t♤6\t♤7\t♤8\t♤9\t♤10\t♤J\t♤Q\t♤K\t\n",
      "♡A\t♡2\t♡3\t♡4\t♡5\t♡6\t♡7\t♡8\t♡9\t♡10\t♡J\t♡Q\t♡K\t\n",
      "♢A\t♢2\t♢3\t♢4\t♢5\t♢6\t♢7\t♢8\t♢9\t♢10\t♢J\t♢Q\t♢K\t\n",
      "♧A\t♧2\t♧3\t♧4\t♧5\t♧6\t♧7\t♧8\t♧9\t♧10\t♧J\t♧Q\t♧K\t\n"
     ]
    }
   ],
   "source": [
    "i=0\n",
    "for card in cards:\n",
    "    print(card, end=\"\\t\")\n",
    "    i += 1\n",
    "    if i == 13:\n",
    "        print()\n",
    "        i=0"
   ]
  },
  {
   "cell_type": "code",
   "execution_count": 123,
   "id": "9969eb4e",
   "metadata": {},
   "outputs": [],
   "source": [
    "# Chapter 9 #"
   ]
  },
  {
   "cell_type": "code",
   "execution_count": 124,
   "id": "c2eb27ad",
   "metadata": {},
   "outputs": [
    {
     "name": "stdout",
     "output_type": "stream",
     "text": [
      "[['A', 'A'], ['A', 'B'], ['A', 'O'], ['B', 'B'], ['B', 'O'], ['O', 'O']]\n"
     ]
    }
   ],
   "source": [
    "abo = ['A', 'B', 'O']\n",
    "bloodtypes = []\n",
    "for blood in abo:\n",
    "  for blood2 in abo:\n",
    "    bloodtype = [blood, blood2]\n",
    "    if sorted(bloodtype) not in bloodtypes:\n",
    "      bloodtypes.append(sorted(bloodtype))\n",
    "print(bloodtypes)"
   ]
  },
  {
   "cell_type": "code",
   "execution_count": null,
   "id": "4e42d1e5",
   "metadata": {},
   "outputs": [],
   "source": []
  }
 ],
 "metadata": {
  "kernelspec": {
   "display_name": "Python 3 (ipykernel)",
   "language": "python",
   "name": "python3"
  },
  "language_info": {
   "codemirror_mode": {
    "name": "ipython",
    "version": 3
   },
   "file_extension": ".py",
   "mimetype": "text/x-python",
   "name": "python",
   "nbconvert_exporter": "python",
   "pygments_lexer": "ipython3",
   "version": "3.9.6"
  }
 },
 "nbformat": 4,
 "nbformat_minor": 5
}
