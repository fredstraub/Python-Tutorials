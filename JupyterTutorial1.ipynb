{
 "cells": [
  {
   "cell_type": "code",
   "execution_count": 1,
   "id": "c8ae0357",
   "metadata": {},
   "outputs": [
    {
     "name": "stdout",
     "output_type": "stream",
     "text": [
      "Hello World\n"
     ]
    }
   ],
   "source": [
    "print(\"Hello World\")"
   ]
  },
  {
   "cell_type": "code",
   "execution_count": 2,
   "id": "90e89f84",
   "metadata": {},
   "outputs": [
    {
     "name": "stdout",
     "output_type": "stream",
     "text": [
      "Hello World\n"
     ]
    }
   ],
   "source": [
    "print('Hello World')"
   ]
  },
  {
   "cell_type": "code",
   "execution_count": 3,
   "id": "7863e1ca",
   "metadata": {},
   "outputs": [
    {
     "name": "stdout",
     "output_type": "stream",
     "text": [
      "1\n",
      "2\n",
      "3\n",
      "4\n",
      "5\n",
      "6\n",
      "7\n",
      "8\n",
      "9\n",
      "10\n"
     ]
    }
   ],
   "source": [
    "i = 1\n",
    "while i <= 10:\n",
    "    print(i)\n",
    "    i = i + 1"
   ]
  },
  {
   "cell_type": "markdown",
   "id": "3368bc1f",
   "metadata": {},
   "source": [
    "# This is a headline\n",
    "## Subheadline\n",
    "\n",
    "**Text**\n",
    "\n",
    "More Text"
   ]
  },
  {
   "cell_type": "markdown",
   "id": "4fb608fc",
   "metadata": {},
   "source": [
    "* *italics* *"
   ]
  },
  {
   "cell_type": "code",
   "execution_count": 5,
   "id": "046072db",
   "metadata": {},
   "outputs": [
    {
     "data": {
      "text/plain": [
       "2"
      ]
     },
     "execution_count": 5,
     "metadata": {},
     "output_type": "execute_result"
    }
   ],
   "source": [
    "1+1\n"
   ]
  },
  {
   "cell_type": "code",
   "execution_count": 6,
   "id": "bfa6bc4e",
   "metadata": {},
   "outputs": [
    {
     "data": {
      "text/plain": [
       "75"
      ]
     },
     "execution_count": 6,
     "metadata": {},
     "output_type": "execute_result"
    }
   ],
   "source": [
    "int((((100-5) ** 1.2) +1 ) /3.14)"
   ]
  },
  {
   "cell_type": "markdown",
   "id": "d0db7f0a",
   "metadata": {},
   "source": [
    "# Quiz 1"
   ]
  },
  {
   "cell_type": "code",
   "execution_count": 7,
   "id": "ac115ccf",
   "metadata": {},
   "outputs": [
    {
     "data": {
      "text/plain": [
       "291.76"
      ]
     },
     "execution_count": 7,
     "metadata": {},
     "output_type": "execute_result"
    }
   ],
   "source": [
    "7*10.42*4"
   ]
  },
  {
   "cell_type": "markdown",
   "id": "6fc7336d",
   "metadata": {},
   "source": [
    "## Quiz 2"
   ]
  },
  {
   "cell_type": "code",
   "execution_count": 8,
   "id": "d73ea395",
   "metadata": {},
   "outputs": [
    {
     "data": {
      "text/plain": [
       "0.14000000000000057"
      ]
     },
     "execution_count": 8,
     "metadata": {},
     "output_type": "execute_result"
    }
   ],
   "source": [
    "(20*.44 + 1*.34) - 9.00"
   ]
  },
  {
   "cell_type": "code",
   "execution_count": 9,
   "id": "0ebd5b1a",
   "metadata": {},
   "outputs": [
    {
     "name": "stdout",
     "output_type": "stream",
     "text": [
      "1\n"
     ]
    },
    {
     "data": {
      "text/plain": [
       "7"
      ]
     },
     "execution_count": 9,
     "metadata": {},
     "output_type": "execute_result"
    }
   ],
   "source": [
    "print(1)\n",
    "2\n",
    "3\n",
    "4\n",
    "5\n",
    "6\n",
    "7"
   ]
  },
  {
   "cell_type": "code",
   "execution_count": 10,
   "id": "d26fff0d",
   "metadata": {},
   "outputs": [
    {
     "name": "stdout",
     "output_type": "stream",
     "text": [
      "1\n",
      "5\n"
     ]
    }
   ],
   "source": [
    "print(1)\n",
    "2\n",
    "3\n",
    "4\n",
    "print(5)"
   ]
  },
  {
   "cell_type": "code",
   "execution_count": 11,
   "id": "166a9ca9",
   "metadata": {},
   "outputs": [
    {
     "name": "stdout",
     "output_type": "stream",
     "text": [
      "1\n",
      "2\n"
     ]
    }
   ],
   "source": [
    "print(1)\n",
    "print(2)"
   ]
  },
  {
   "cell_type": "code",
   "execution_count": 12,
   "id": "295ae1bd",
   "metadata": {},
   "outputs": [],
   "source": [
    "pokebowl_price = 8.25"
   ]
  },
  {
   "cell_type": "code",
   "execution_count": 13,
   "id": "b2864455",
   "metadata": {},
   "outputs": [
    {
     "name": "stdout",
     "output_type": "stream",
     "text": [
      "8.25\n"
     ]
    }
   ],
   "source": [
    "print(pokebowl_price)"
   ]
  },
  {
   "cell_type": "code",
   "execution_count": 14,
   "id": "b3a473dd",
   "metadata": {},
   "outputs": [
    {
     "data": {
      "text/plain": [
       "10.95"
      ]
     },
     "execution_count": 14,
     "metadata": {},
     "output_type": "execute_result"
    }
   ],
   "source": [
    "poke_price = 20\n",
    "poke_weight = 0.5\n",
    "tax = 9.5\n",
    "\n",
    "poke_price * poke_weight * (1+(tax/100))"
   ]
  },
  {
   "cell_type": "code",
   "execution_count": 1,
   "id": "725e16f6",
   "metadata": {},
   "outputs": [
    {
     "name": "stdout",
     "output_type": "stream",
     "text": [
      "free diving\n",
      "Free Diving\n",
      "FREE DIVING\n",
      "free diving\n"
     ]
    }
   ],
   "source": [
    "aus_activity = 'free diving'\n",
    "print(aus_activity)\n",
    "print(aus_activity.title())\n",
    "print(aus_activity.upper())\n",
    "print(aus_activity.lower())"
   ]
  },
  {
   "cell_type": "code",
   "execution_count": 2,
   "id": "f6d48f77",
   "metadata": {},
   "outputs": [
    {
     "name": "stdout",
     "output_type": "stream",
     "text": [
      "Martin Islet free diving\n"
     ]
    }
   ],
   "source": [
    "print('Martin Islet'+' '+aus_activity)"
   ]
  },
  {
   "cell_type": "code",
   "execution_count": 6,
   "id": "00eea4dc",
   "metadata": {},
   "outputs": [
    {
     "name": "stdout",
     "output_type": "stream",
     "text": [
      "Austrailia, free diving\n"
     ]
    }
   ],
   "source": [
    "country = 'Austrailia'\n",
    "complete_activity_location = \"{}, {}\".format(country, aus_activity)\n",
    "print(complete_activity_location)"
   ]
  },
  {
   "cell_type": "code",
   "execution_count": 7,
   "id": "00a0c2f5",
   "metadata": {},
   "outputs": [
    {
     "name": "stdout",
     "output_type": "stream",
     "text": [
      "I WENT SWIMMING\n"
     ]
    }
   ],
   "source": [
    "print('I went swimming'.upper())"
   ]
  },
  {
   "cell_type": "code",
   "execution_count": null,
   "id": "77a43ed7",
   "metadata": {},
   "outputs": [],
   "source": []
  }
 ],
 "metadata": {
  "kernelspec": {
   "display_name": "Python 3 (ipykernel)",
   "language": "python",
   "name": "python3"
  },
  "language_info": {
   "codemirror_mode": {
    "name": "ipython",
    "version": 3
   },
   "file_extension": ".py",
   "mimetype": "text/x-python",
   "name": "python",
   "nbconvert_exporter": "python",
   "pygments_lexer": "ipython3",
   "version": "3.9.6"
  }
 },
 "nbformat": 4,
 "nbformat_minor": 5
}
